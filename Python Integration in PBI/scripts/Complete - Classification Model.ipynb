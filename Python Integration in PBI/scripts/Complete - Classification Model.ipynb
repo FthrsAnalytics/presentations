{
 "cells": [
  {
   "cell_type": "code",
   "execution_count": null,
   "id": "45b3dc3a",
   "metadata": {
    "colab": {
     "base_uri": "https://localhost:8080/"
    },
    "executionInfo": {
     "elapsed": 540,
     "status": "ok",
     "timestamp": 1642034750228,
     "user": {
      "displayName": "Joseph Yeates",
      "photoUrl": "https://lh3.googleusercontent.com/a-/AOh14GjgPAHtRWS5ii31Agylr2g96Bdfynlb_kGIjZ3P=s64",
      "userId": "05262449329418699827"
     },
     "user_tz": 480
    },
    "id": "f5b62dd7",
    "outputId": "ff881f7d-a63a-44e2-dd68-677fc5141bfc"
   },
   "outputs": [],
   "source": [
    "# Load & Inspect Iris Data\n",
    "# Import libraries\n",
    "import pandas as pd\n",
    "import numpy as np\n",
    "from sklearn.datasets import load_iris\n",
    "\n",
    "# Load iris\n",
    "iris = load_iris()\n",
    "\n",
    "# Examine feature & target names\n",
    "print(iris.target_names)\n",
    "print(iris.feature_names)\n",
    "\n",
    "# Create DataFrame\n",
    "classification_df = pd.DataFrame(\n",
    "    data = np.c_[iris['data'], iris['target']],\n",
    "    columns = iris['feature_names'] + ['target'])\n",
    "\n",
    "# Rename targets\n",
    "classification_df['target_name'] = classification_df.target.replace({0: 'setosa', 1: 'versicolor', 2: 'virginica'})\n",
    "\n",
    "# Examine DataFrame\n",
    "print(classification_df)\n",
    "\n",
    "# Examine averages of features by target\n",
    "classification_df.groupby('target_name').mean()"
   ]
  },
  {
   "cell_type": "code",
   "execution_count": null,
   "id": "aaf8227c",
   "metadata": {
    "colab": {
     "base_uri": "https://localhost:8080/"
    },
    "executionInfo": {
     "elapsed": 574,
     "status": "ok",
     "timestamp": 1642034763317,
     "user": {
      "displayName": "Joseph Yeates",
      "photoUrl": "https://lh3.googleusercontent.com/a-/AOh14GjgPAHtRWS5ii31Agylr2g96Bdfynlb_kGIjZ3P=s64",
      "userId": "05262449329418699827"
     },
     "user_tz": 480
    },
    "id": "aaf8227c",
    "outputId": "d347ceff-0e52-4659-b3dc-35c6f7a15730"
   },
   "outputs": [],
   "source": [
    "## Train a Classification Model in Power Query\n",
    "\n",
    "# Import libraries\n",
    "from sklearn.model_selection import train_test_split\n",
    "from sklearn.tree import DecisionTreeClassifier\n",
    "import pandas as pd\n",
    "\n",
    "# Define features\n",
    "features = ['sepal length (cm)', 'sepal width (cm)', 'petal length (cm)', 'petal width (cm)']\n",
    "\n",
    "# Define target and explanatory variables\n",
    "X_features = iris.data\n",
    "y_target = iris.target\n",
    "\n",
    "# Create the train / test split on the data\n",
    "features_train, features_test, target_train, target_test = train_test_split(X_features, y_target, test_size = 0.25, random_state = 57)\n",
    "\n",
    "# Define the model classifier\n",
    "classifier = DecisionTreeClassifier(random_state = 237)\n",
    "\n",
    "# Fit the classification model\n",
    "trained_model = classifier.fit(features_train, target_train)\n",
    "\n",
    "# Create predictions \n",
    "classification_df['Predicted Target'] = trained_model.predict(classification_df[features])\n",
    "\n",
    "print(classification_df)"
   ]
  },
  {
   "cell_type": "code",
   "execution_count": null,
   "id": "2S0xKllJ7Vfy",
   "metadata": {
    "id": "2S0xKllJ7Vfy"
   },
   "outputs": [],
   "source": [
    "## Visualize Model with a Decision Tree\n",
    "\n",
    "# Import libraries\n",
    "from matplotlib import pyplot as plt\n",
    "from sklearn.tree import DecisionTreeClassifier\n",
    "from sklearn import tree\n",
    " \n",
    "# Define target and explanatory variables\n",
    "features = classification_df[['sepal length (cm)', 'sepal width (cm)', 'petal length (cm)', 'petal width (cm)']]\n",
    "target = classification_df[['target']]\n",
    " \n",
    "# Define target and explanatory names\n",
    "target_names = ['setosa', 'versicolor', 'virginica']\n",
    "feature_names = ['sepal length (cm)', 'sepal width (cm)', 'petal length (cm)', 'petal width (cm)']\n",
    "\n",
    "# Define the classifier\n",
    "classifier = DecisionTreeClassifier(random_state = 723)\n",
    "\n",
    "# Fit the model\n",
    "trained_model = clf.fit(features, target)\n",
    "\n",
    "# Define the tree plot\n",
    "tree_plot = tree.plot_tree(trained_model,\n",
    "                  feature_names = feature_names,\n",
    "                   class_names = target_names,\n",
    "                  filled = True)\n",
    "\n",
    "# Display the tree plot\n",
    "plt.show()"
   ]
  }
 ],
 "metadata": {
  "colab": {
   "name": "Advanced Power BI - Classification Model.ipynb",
   "provenance": []
  },
  "kernelspec": {
   "display_name": "Python 3 (ipykernel)",
   "language": "python",
   "name": "python3"
  },
  "language_info": {
   "codemirror_mode": {
    "name": "ipython",
    "version": 3
   },
   "file_extension": ".py",
   "mimetype": "text/x-python",
   "name": "python",
   "nbconvert_exporter": "python",
   "pygments_lexer": "ipython3",
   "version": "3.8.11"
  }
 },
 "nbformat": 4,
 "nbformat_minor": 5
}
