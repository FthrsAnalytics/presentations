{
 "cells": [
  {
   "cell_type": "code",
   "execution_count": null,
   "id": "cb9e0231",
   "metadata": {
    "id": "32db0cc9",
    "outputId": "b91bdcaa-a3dc-4337-9276-877afd641451"
   },
   "outputs": [],
   "source": [
    "## Create Data with a Python Script\n",
    "\n",
    "# Import pandas library\n",
    "import pandas as pd\n",
    "\n",
    "# Create dataframe for Power BI\n",
    "create_data_df = pd.DataFrame({\n",
    "    'Grade': ['A','A', 'B','B','C','C'],\n",
    "    'Price': [125,236,300,300,472,600],\n",
    "    'State': ['NY','CA','IL','IL','WI','NV']\n",
    "    })\n",
    "\n",
    "# Examine data frame\n",
    "print(create_data_df)"
   ]
  },
  {
   "cell_type": "code",
   "execution_count": null,
   "id": "2f663a8e",
   "metadata": {
    "id": "2f663a8e",
    "outputId": "afea70a1-a064-4fbe-814d-1a1f8aedd034"
   },
   "outputs": [],
   "source": [
    "## Import External Data with Python\n",
    "\n",
    "# Import libraries\n",
    "import pandas as pd\n",
    "import pandas_datareader.data as pdr\n",
    "\n",
    "# Set date parameters\n",
    "startdate = '2020-01-01'\n",
    "enddate = '2020-12-31'\n",
    "\n",
    "# Import S&P 500 data from Yahoo - 'SPY', 'yahoo'\n",
    "stocks_df = pdr.DataReader('SPY', 'yahoo', startdate, enddate)\n",
    "stocks_df['Date'] = stocks_df.index\n",
    "\n",
    "# Examine stocks_df\n",
    "print(stocks_df)"
   ]
  },
  {
   "cell_type": "code",
   "execution_count": null,
   "id": "33ce8b58",
   "metadata": {
    "id": "33ce8b58"
   },
   "outputs": [],
   "source": [
    "## Run a Python Script in Power Query\n",
    "import pandas as pd\n",
    "import numpy as np\n",
    "# Generate dataset\n",
    "nos = list(range(1, 21))\n",
    "\n",
    "dataset = pd.DataFrame({'Numbers': nos})\n",
    "dataset['Student'] = 'Student: ' + dataset['Numbers'].astype(str)\n",
    "dataset['Score'] = dataset['Numbers'] * 4.6956\n",
    "\n",
    "print(dataset)"
   ]
  },
  {
   "cell_type": "code",
   "execution_count": null,
   "id": "87b8d8c7",
   "metadata": {
    "id": "87b8d8c7",
    "outputId": "8a35bbb3-46c5-44a9-e205-a207ca30b8e8"
   },
   "outputs": [],
   "source": [
    "# Import numpy library\n",
    "import numpy as np\n",
    "\n",
    "# Define percentile parameters\n",
    "pers = [50, 75, 90, 95]\n",
    "\n",
    "for i in pers:\n",
    "    j = np.percentile(dataset['Score'], i)\n",
    "    \n",
    "    dataset[str(i) + ' Percentile'] = j\n",
    "    \n",
    "# Define condition and choice lists\n",
    "pers_conditions = [\n",
    "    (dataset['Score'] < dataset['50 Percentile']),\n",
    "    (dataset['Score'] < dataset['75 Percentile']),\n",
    "    (dataset['Score'] < dataset['90 Percentile']),\n",
    "    (dataset['Score'] >= dataset['90 Percentile'])\n",
    "]\n",
    "\n",
    "pers_bins = [str(i) for i in pers]\n",
    "\n",
    "# Assign student to a percentile\n",
    "dataset['Student Percentile'] = np.select(pers_conditions, pers)\n",
    "\n",
    "# Examine dataset\n",
    "print(dataset)"
   ]
  },
  {
   "cell_type": "code",
   "execution_count": null,
   "id": "f2f3fa22",
   "metadata": {
    "id": "f2f3fa22",
    "outputId": "8cc7af46-4f9a-4ece-8512-164a8480f50c"
   },
   "outputs": [],
   "source": [
    "## Visualize stock data\n",
    "\n",
    "# Import matplotlib library\n",
    "from matplotlib import pyplot\n",
    "\n",
    "# Create plot\n",
    "dataset.plot('Adj Close', 'Volume', 'scatter')\n",
    " \n",
    "# Display plot\n",
    "pyplot.show()"
   ]
  }
 ],
 "metadata": {
  "colab": {
   "name": "Advanced Power BI - Python Integration.ipynb",
   "provenance": []
  },
  "kernelspec": {
   "display_name": "Python 3 (ipykernel)",
   "language": "python",
   "name": "python3"
  },
  "language_info": {
   "codemirror_mode": {
    "name": "ipython",
    "version": 3
   },
   "file_extension": ".py",
   "mimetype": "text/x-python",
   "name": "python",
   "nbconvert_exporter": "python",
   "pygments_lexer": "ipython3",
   "version": "3.8.11"
  }
 },
 "nbformat": 4,
 "nbformat_minor": 5
}
